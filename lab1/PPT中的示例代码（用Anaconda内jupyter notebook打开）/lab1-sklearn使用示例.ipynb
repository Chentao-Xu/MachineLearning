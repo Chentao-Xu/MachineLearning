{
 "cells": [
  {
   "cell_type": "markdown",
   "id": "42a99a89",
   "metadata": {},
   "source": [
    "# sklearn使用示例"
   ]
  },
  {
   "cell_type": "code",
   "execution_count": 1,
   "id": "7f97f85b",
   "metadata": {},
   "outputs": [],
   "source": [
    "import pandas as pd\n",
    "import numpy as np\n",
    "from sklearn.datasets import load_iris\n",
    "from sklearn.linear_model import Perceptron\n",
    "from sklearn.model_selection import train_test_split"
   ]
  },
  {
   "cell_type": "code",
   "execution_count": 2,
   "id": "619c3fdf",
   "metadata": {},
   "outputs": [
    {
     "name": "stdout",
     "output_type": "stream",
     "text": [
      "0.9666666666666667\n"
     ]
    }
   ],
   "source": [
    "#加载数据\n",
    "iris = load_iris()  \n",
    "# 将鸢尾花4个特征，以4列存入pandas的数据框架\n",
    "df = pd.DataFrame(iris.data, columns=iris.feature_names) \n",
    "\n",
    "# 在最后一列追加 加入（目标值）列数据\n",
    "df['label'] = iris.target\n",
    "\n",
    "# 选取数据，前100行，前两个特征，最后一列的目标值\n",
    "data = np.array(df.iloc[:100, [0, 1, -1]])\n",
    "# 生成感知机的标签值，+1， -1, 第一种 - 1，第二种 + 1\n",
    "for i in range(len(data)):\n",
    "    if data[i,-1] == 0:\n",
    "        data[i,-1] = -1\n",
    "\n",
    "#数据分割\n",
    "# X是除最后一列外的所有列，y是最后一列\n",
    "X, y = data[:, :-1], data[:, -1]\n",
    "\n",
    "# 调用sklearn的train_test_split方法，将数据随机分为训练集和测试集\n",
    "X_train, X_test, y_train, y_test = train_test_split(X,  #被划分的样本特征集\n",
    "                                                    y,  #被划分的样本目标集\n",
    "                                                    test_size=0.3, #测试样本占比\n",
    "                                                    random_state=1) #随机数种子\n",
    "\n",
    "# 定义感知机\n",
    "clf = Perceptron(fit_intercept=False, max_iter=1000, shuffle=False)\n",
    "\n",
    "# 使用训练数据进行训练\n",
    "clf.fit(X_train, y_train)\n",
    "\n",
    "#评价模型\n",
    "print(clf.score(X_test, y_test))"
   ]
  },
  {
   "cell_type": "code",
   "execution_count": null,
   "id": "7242e38c",
   "metadata": {},
   "outputs": [],
   "source": []
  }
 ],
 "metadata": {
  "kernelspec": {
   "display_name": "Python 3",
   "language": "python",
   "name": "python3"
  },
  "language_info": {
   "codemirror_mode": {
    "name": "ipython",
    "version": 3
   },
   "file_extension": ".py",
   "mimetype": "text/x-python",
   "name": "python",
   "nbconvert_exporter": "python",
   "pygments_lexer": "ipython3",
   "version": "3.10.12"
  },
  "toc": {
   "base_numbering": 1,
   "nav_menu": {},
   "number_sections": true,
   "sideBar": true,
   "skip_h1_title": false,
   "title_cell": "Table of Contents",
   "title_sidebar": "Contents",
   "toc_cell": false,
   "toc_position": {},
   "toc_section_display": true,
   "toc_window_display": false
  }
 },
 "nbformat": 4,
 "nbformat_minor": 5
}
