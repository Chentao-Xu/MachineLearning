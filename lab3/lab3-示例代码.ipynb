{
 "cells": [
  {
   "cell_type": "markdown",
   "metadata": {},
   "source": [
    "# 使用Python自编程（以ID3算法为例），实现课本样例数据的分类"
   ]
  },
  {
   "cell_type": "code",
   "execution_count": 1,
   "metadata": {},
   "outputs": [],
   "source": [
    "import numpy as np\n",
    "import pandas as pd\n",
    "from math import log"
   ]
  },
  {
   "cell_type": "code",
   "execution_count": 2,
   "metadata": {},
   "outputs": [],
   "source": [
    "def create_data():\n",
    "    df = pd.read_excel(r\"课本样例数据.xls\")\n",
    "    # 获取数据集和每个维度的名称\n",
    "    df = df.drop(['ID'], axis=1)\n",
    "    datasets = df.values\n",
    "    labels = df.columns.values\n",
    "    print(datasets)\n",
    "    print(labels)\n",
    "    return datasets, labels"
   ]
  },
  {
   "cell_type": "code",
   "execution_count": 3,
   "metadata": {},
   "outputs": [
    {
     "name": "stdout",
     "output_type": "stream",
     "text": [
      "[['青年' '否' '否' '一般' '否']\n",
      " ['青年' '否' '否' '好' '否']\n",
      " ['青年' '是' '否' '好' '是']\n",
      " ['青年' '是' '是' '一般' '是']\n",
      " ['青年' '否' '否' '一般' '否']\n",
      " ['中年' '否' '否' '一般' '否']\n",
      " ['中年' '否' '否' '好' '否']\n",
      " ['中年' '是' '是' '好' '是']\n",
      " ['中年' '否' '是' '非常好' '是']\n",
      " ['中年' '否' '是' '非常好' '是']\n",
      " ['老年' '否' '是' '非常好' '是']\n",
      " ['老年' '否' '是' '好' '是']\n",
      " ['老年' '是' '否' '好' '是']\n",
      " ['老年' '是' '否' '非常好' '是']\n",
      " ['老年' '否' '否' '一般' '否']]\n",
      "['年龄' '有工作' '有自己的房子' '信贷情况' '类别']\n",
      "    年龄 有工作 有自己的房子 信贷情况 类别\n",
      "0   青年   否      否   一般  否\n",
      "1   青年   否      否    好  否\n",
      "2   青年   是      否    好  是\n",
      "3   青年   是      是   一般  是\n",
      "4   青年   否      否   一般  否\n",
      "5   中年   否      否   一般  否\n",
      "6   中年   否      否    好  否\n",
      "7   中年   是      是    好  是\n",
      "8   中年   否      是  非常好  是\n",
      "9   中年   否      是  非常好  是\n",
      "10  老年   否      是  非常好  是\n",
      "11  老年   否      是    好  是\n",
      "12  老年   是      否    好  是\n",
      "13  老年   是      否  非常好  是\n",
      "14  老年   否      否   一般  否\n"
     ]
    }
   ],
   "source": [
    "datasets, labels = create_data()\n",
    "train_data = pd.DataFrame(datasets, columns=labels)\n",
    "print(train_data)"
   ]
  },
  {
   "cell_type": "code",
   "execution_count": 4,
   "metadata": {},
   "outputs": [],
   "source": [
    "# 定义节点类 二叉树\n",
    "class Node:\n",
    "    def __init__(self, root=True, label=None, feature_name=None, feature=None):\n",
    "        self.root = root\n",
    "        self.label = label\n",
    "        self.feature_name = feature_name\n",
    "        self.feature = feature\n",
    "        self.tree = {}\n",
    "        self.result = {'label:': self.label, 'feature': self.feature, 'tree': self.tree}\n",
    "\n",
    "    def __repr__(self):\n",
    "        return '{}'.format(self.result)\n",
    "\n",
    "    def add_node(self, val, node):\n",
    "        self.tree[val] = node\n",
    "\n",
    "    def predict(self, features):\n",
    "        if self.root is True:\n",
    "            return self.label\n",
    "        if features[self.feature] not in self.tree:\n",
    "            key_feature = list(self.tree.keys())  # 储存特征出现过的取值\n",
    "            x = np.random.randint(0, len(key_feature))  # 随机生成一个数字\n",
    "            random_key = key_feature[x]\n",
    "            return self.tree[random_key].predict(features)\n",
    "        return self.tree[features[self.feature]].predict(features)"
   ]
  },
  {
   "cell_type": "code",
   "execution_count": 5,
   "metadata": {},
   "outputs": [],
   "source": [
    "class DTree:\n",
    "    def __init__(self, epsilon=0.1):\n",
    "        self.epsilon = epsilon\n",
    "        self._tree = {}\n",
    "\n",
    "    # 熵\n",
    "    def calc_ent(self, datasets):\n",
    "        data_length = len(datasets)\n",
    "        label_count = {}\n",
    "        for i in range(data_length):\n",
    "            label = datasets[i][-1]\n",
    "            if label not in label_count:\n",
    "                label_count[label] = 0\n",
    "            label_count[label] += 1\n",
    "        ent = -sum([(p/data_length)*log(p/data_length, 2) for p in label_count.values()])\n",
    "        return ent\n",
    "\n",
    "    # 经验条件熵\n",
    "    def cond_ent(self, datasets, axis=0):\n",
    "        data_length = len(datasets)\n",
    "        feature_sets = {}\n",
    "        for i in range(data_length):\n",
    "            feature = datasets[i][axis]\n",
    "            if feature not in feature_sets:\n",
    "                feature_sets[feature] = []\n",
    "            feature_sets[feature].append(datasets[i])\n",
    "        cond_ent = sum([(len(p)/data_length)*self.calc_ent(p) for p in feature_sets.values()])\n",
    "        return cond_ent\n",
    "\n",
    "    # 信息增益\n",
    "    def info_gain(self, ent, cond_ent):\n",
    "        return ent - cond_ent\n",
    "\n",
    "    #返回信息增益最大的特征\n",
    "    def info_gain_train(self, datasets):\n",
    "        count = len(datasets[0]) - 1\n",
    "        ent = self.calc_ent(datasets)\n",
    "        best_feature = []\n",
    "        for c in range(count):\n",
    "            c_info_gain = self.info_gain(ent, self.cond_ent(datasets, axis=c))\n",
    "            best_feature.append((c, c_info_gain))\n",
    "        # 比较大小\n",
    "        best_ = max(best_feature, key=lambda x: x[-1])\n",
    "        return best_\n",
    "\n",
    "    def train(self, train_data):\n",
    "        \"\"\"\n",
    "        input:数据集D(DataFrame格式)，特征集A，阈值eta\n",
    "        output:决策树T\n",
    "        \"\"\"\n",
    "        _, y_train, features = train_data.iloc[:, :-1], train_data.iloc[:, -1], train_data.columns[:-1]\n",
    "\n",
    "        if len(y_train.value_counts()) == 1:\n",
    "            return Node(root=True,\n",
    "                        label=y_train.iloc[0])\n",
    "\n",
    "        if len(features) == 0:\n",
    "            return Node(root=True, label=y_train.value_counts().sort_values(ascending=False).index[0])\n",
    "\n",
    "        max_feature, max_info_gain = self.info_gain_train(np.array(train_data))\n",
    "        max_feature_name = features[max_feature]\n",
    "\n",
    "        if max_info_gain < self.epsilon:\n",
    "            return Node(root=True, label=y_train.value_counts().sort_values(ascending=False).index[0])\n",
    "\n",
    "        node_tree = Node(root=False, feature_name=max_feature_name, feature=max_feature)\n",
    "\n",
    "        feature_list = train_data[max_feature_name].value_counts().index\n",
    "        for f in feature_list:\n",
    "            sub_train_df = train_data.loc[train_data[max_feature_name] == f].drop([max_feature_name], axis=1)\n",
    "\n",
    "            sub_tree = self.train(sub_train_df)\n",
    "            node_tree.add_node(f, sub_tree)\n",
    "        \n",
    "        return node_tree\n",
    "\n",
    "    \n",
    "    def fit(self, train_data):\n",
    "        self._tree = self.train(train_data)\n",
    "        return self._tree\n",
    "\n",
    "    def predict(self, X_test):\n",
    "        return self._tree.predict(X_test)"
   ]
  },
  {
   "cell_type": "code",
   "execution_count": 6,
   "metadata": {},
   "outputs": [
    {
     "name": "stdout",
     "output_type": "stream",
     "text": [
      "{'label:': None, 'feature': 2, 'tree': {'否': {'label:': None, 'feature': 1, 'tree': {'否': {'label:': '否', 'feature': None, 'tree': {}}, '是': {'label:': '是', 'feature': None, 'tree': {}}}}, '是': {'label:': '是', 'feature': None, 'tree': {}}}}\n"
     ]
    }
   ],
   "source": [
    "dt = DTree()\n",
    "tree = dt.fit(train_data)\n",
    "print(tree)"
   ]
  },
  {
   "cell_type": "code",
   "execution_count": 7,
   "metadata": {},
   "outputs": [
    {
     "name": "stdout",
     "output_type": "stream",
     "text": [
      "否\n"
     ]
    }
   ],
   "source": [
    "print(dt.predict(['老年', '否', '否', '一般']))"
   ]
  },
  {
   "cell_type": "markdown",
   "metadata": {},
   "source": [
    "# 调用Sklearn库分类器，实现课本样例数据的分类"
   ]
  },
  {
   "cell_type": "markdown",
   "id": "fc714280",
   "metadata": {},
   "source": [
    "环境准备：\n",
    "请参考文件 决策树可视化——anaconda下安装pydotplus以及graphviz\n",
    "提前安装好pydotplus以及graphviz！！！"
   ]
  },
  {
   "cell_type": "code",
   "execution_count": 9,
   "metadata": {},
   "outputs": [
    {
     "name": "stdout",
     "output_type": "stream",
     "text": [
      "['ID' '年龄' '有工作' '有自己的房子' '信贷情况' '类别']\n",
      "[[1 0 0 1 0]\n",
      " [1 0 0 2 0]\n",
      " [1 1 0 2 1]\n",
      " [1 1 1 1 1]\n",
      " [1 0 0 1 0]\n",
      " [2 0 0 1 0]\n",
      " [2 0 0 2 0]\n",
      " [2 1 1 2 1]\n",
      " [2 0 1 3 1]\n",
      " [2 0 1 3 1]\n",
      " [3 0 1 3 1]\n",
      " [3 0 1 2 1]\n",
      " [3 1 0 2 1]\n",
      " [3 1 0 3 1]\n",
      " [3 0 0 1 0]]\n",
      "[0]\n"
     ]
    }
   ],
   "source": [
    "import pandas as pd\n",
    "import pydotplus\n",
    "from sklearn.tree import DecisionTreeClassifier\n",
    "from sklearn.tree import export_graphviz\n",
    "\n",
    "\n",
    "\n",
    "#读取xlsx文件并查看所有的表头\n",
    "df = pd.read_excel(r\"课本样例数据.xls\")\n",
    "cols=df.columns.values\n",
    "print(cols)\n",
    "\n",
    "\n",
    "age = {'青年': 1, '中年': 2, '老年': 3}\n",
    "job = {'是': 1, '否': 0}\n",
    "housing = {'是': 1, '否': 0}\n",
    "credit = {'一般': 1, '好': 2, '非常好': 3}\n",
    "loan = {'是': 1, '否': 0}\n",
    "df['年龄'] = df['年龄'].map(age)\n",
    "df['有工作'] = df['有工作'].map(job)\n",
    "df['有自己的房子'] = df['有自己的房子'].map(housing)\n",
    "df['信贷情况'] = df['信贷情况'].map(credit)\n",
    "df['类别'] = df['类别'].map(loan)\n",
    "df= df.drop(['ID'], axis=1)\n",
    "datas=df.values\n",
    "print(datas)\n",
    "\n",
    "\n",
    "feature =['age','no job','no housing','credit']\n",
    "classname =['no loan','loan']\n",
    "\n",
    "#划分数据集\n",
    "X = [x[0:4] for x in datas]\n",
    "#print(X)\n",
    "Y = [y[-1] for y in datas]\n",
    "#print(Y)\n",
    "\n",
    "\n",
    "tree_clf = DecisionTreeClassifier(max_depth=4)\n",
    "tree_clf.fit(X, Y)\n",
    "print(tree_clf.predict([[3, 0, 0, 1]]))"
   ]
  },
  {
   "cell_type": "code",
   "execution_count": 10,
   "metadata": {
    "scrolled": true
   },
   "outputs": [
    {
     "data": {
      "text/plain": [
       "True"
      ]
     },
     "execution_count": 10,
     "metadata": {},
     "output_type": "execute_result"
    }
   ],
   "source": [
    "dot_data=export_graphviz(\n",
    "            tree_clf,\n",
    "            out_file=None,\n",
    "            feature_names=feature,\n",
    "            class_names=classname,\n",
    "            rounded=True,\n",
    "            filled=True,\n",
    "    special_characters=True)\n",
    "dot_data=dot_data.replace('\\n','')\n",
    "graph=pydotplus.graph_from_dot_data(dot_data)\n",
    "graph.write_png(r\"loan.png\")"
   ]
  },
  {
   "cell_type": "code",
   "execution_count": null,
   "metadata": {},
   "outputs": [],
   "source": []
  }
 ],
 "metadata": {
  "kernelspec": {
   "display_name": "Python 3",
   "language": "python",
   "name": "python3"
  },
  "language_info": {
   "codemirror_mode": {
    "name": "ipython",
    "version": 3
   },
   "file_extension": ".py",
   "mimetype": "text/x-python",
   "name": "python",
   "nbconvert_exporter": "python",
   "pygments_lexer": "ipython3",
   "version": "3.10.12"
  },
  "toc": {
   "base_numbering": 1,
   "nav_menu": {},
   "number_sections": true,
   "sideBar": true,
   "skip_h1_title": false,
   "title_cell": "Table of Contents",
   "title_sidebar": "Contents",
   "toc_cell": false,
   "toc_position": {},
   "toc_section_display": true,
   "toc_window_display": false
  }
 },
 "nbformat": 4,
 "nbformat_minor": 5
}
