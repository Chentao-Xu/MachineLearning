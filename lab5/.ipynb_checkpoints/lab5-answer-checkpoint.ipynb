{
 "cells": [
  {
   "cell_type": "code",
   "execution_count": null,
   "id": "a850703f-1b60-4a5b-acaf-895e147c4629",
   "metadata": {},
   "outputs": [],
   "source": [
    "# 请在数据处理部分 完成横向处的注释"
   ]
  },
  {
   "cell_type": "code",
   "execution_count": 1,
   "id": "31aef046",
   "metadata": {},
   "outputs": [
    {
     "name": "stdout",
     "output_type": "stream",
     "text": [
      "合并后表中的空值数目： 9\n"
     ]
    }
   ],
   "source": [
    "import pandas as pd\n",
    "\n",
    "info_user = pd.read_csv('test.csv', encoding='gbk')\n",
    "\n",
    "# 提取info表的用户名和用餐时间，并按人名对用餐人数和金额进行分组求和\n",
    "info_user1 = info_user['USER_ID'].value_counts()  # __________________________________\n",
    "info_user1 = info_user1.reset_index() # __________________________________\n",
    "info_user1.columns = ['USER_ID', 'frequence']  # # __________________________________\n",
    "\n",
    "# 求出每个人的消费总金额\n",
    "info_user2 = info_user[['number_consumers', \"expenditure\"]].groupby(info_user['USER_ID']).sum()  # __________________________________\n",
    "info_user2 = info_user2.reset_index()\n",
    "info_user2.columns = ['USER_ID', 'numbers', 'amount']  # __________________________________\n",
    "\n",
    "# _______________________________________________________\n",
    "info_user_new = pd.merge(info_user1, info_user2, left_on='USER_ID', right_on='USER_ID', how='left') \n",
    "\n",
    "# 对合并后的数据进行处理\n",
    "info_user = info_user.iloc[:, :4]  # __________________________________\n",
    "info_user = info_user.groupby(['USER_ID']).last()  # __________________________________\n",
    "info_user = info_user.reset_index()  # __________________________________\n",
    "\n",
    "# _______________________________________________________\n",
    "info_user_new = pd.merge(info_user_new, info_user, left_on='USER_ID', right_on='USER_ID', how='left')\n",
    "\n",
    "print('合并后表中的空值数目：', info_user_new.isnull().sum().sum())\n",
    "info_user_new = info_user_new.dropna(axis=0)  # __________________________________\n",
    "\n",
    "info_user_new = info_user_new[info_user_new['numbers'] != 0] # __________________________________\n",
    "\n",
    "# __________________________________\n",
    "info_user_new['average'] = info_user_new['amount']/info_user_new['numbers']\n",
    "info_user_new['average'] = info_user_new['average'].apply(lambda x: '%.2f' % x)\n",
    "\n",
    "# 计算每个客户最近一次点餐的时间距离观测窗口结束的天数\n",
    "# 修改时间列，改为日期\n",
    "info_user_new['LAST_VISITS'] = pd.to_datetime(info_user_new['LAST_VISITS'])\n",
    "datefinally = pd.to_datetime('2016-7-31')  # 观测窗口结束时间\n",
    "time = datefinally - info_user_new['LAST_VISITS']\n",
    "info_user_new['recently'] = time.apply(lambda x: x.days)   # 计算时间差\n",
    "\n",
    "# __________________________________\n",
    "info_user_new = info_user_new.loc[:, ['USER_ID', 'ACCOUNT', 'frequence', 'amount', 'average', 'recently', 'type']]\n",
    "info_user_new.to_csv('test-after.csv', index=False, encoding='gbk')"
   ]
  },
  {
   "cell_type": "code",
   "execution_count": 39,
   "id": "e5de7b8e",
   "metadata": {},
   "outputs": [],
   "source": [
    "# 2、使用决策树模型做预测 (2选1)"
   ]
  },
  {
   "cell_type": "code",
   "execution_count": 14,
   "id": "9290c5d0",
   "metadata": {},
   "outputs": [],
   "source": [
    "# 3、使用KNN模型做预测 (2选1)"
   ]
  },
  {
   "cell_type": "code",
   "execution_count": 16,
   "id": "359818e2",
   "metadata": {},
   "outputs": [],
   "source": [
    "# 4、使用支持向量机做预测"
   ]
  },
  {
   "cell_type": "code",
   "execution_count": 17,
   "id": "fe36b277",
   "metadata": {},
   "outputs": [],
   "source": [
    "#（1）比较4种核函数的分类准确率\n",
    "# 然后分别使用4种核函数（线性核、多项式核、高斯核和Sigmoid核）对该数据集进行分类，最后比较4种核函数的分类准确率"
   ]
  },
  {
   "cell_type": "code",
   "execution_count": 20,
   "id": "03127995",
   "metadata": {},
   "outputs": [],
   "source": [
    "#（2）数据标准化对支持向量机分类准确率的影响"
   ]
  },
  {
   "cell_type": "code",
   "execution_count": 23,
   "id": "8a615b26",
   "metadata": {},
   "outputs": [],
   "source": [
    "#（3）高斯核函数、多项式核函数的参数调节"
   ]
  },
  {
   "cell_type": "code",
   "execution_count": 24,
   "id": "6b7ce4a1",
   "metadata": {},
   "outputs": [],
   "source": [
    "#（3.1）高斯核函数的参数调节\n",
    "# 高斯核函数只有一个参数γ的值可调节。"
   ]
  },
  {
   "cell_type": "code",
   "execution_count": 27,
   "id": "5b0a98b3",
   "metadata": {},
   "outputs": [],
   "source": [
    "#（3.2）多项式核函数参数的调节\n",
    "# 对于多项式核函数来说，它有三个参数共同作用在一个公式上影响其分类准确率，因此只能使用网格搜索法来功能调整三个对多项式很函数有影响的参数"
   ]
  },
  {
   "cell_type": "code",
   "execution_count": 30,
   "id": "ea2bcb46",
   "metadata": {},
   "outputs": [],
   "source": [
    "#（4） 松弛系数惩罚项C的调整\n",
    "#在实际应用种，松弛系数惩罚项C和核函数的相关参数（gamma,degree等）往往搭配一起调整，这是SVM调参的重点。可以使用学习曲线或者网格搜索来调整C值。\n",
    "#下面使用学习曲线调节C和γ参数。"
   ]
  }
 ],
 "metadata": {
  "kernelspec": {
   "display_name": "Python 3 (ipykernel)",
   "language": "python",
   "name": "python3"
  },
  "language_info": {
   "codemirror_mode": {
    "name": "ipython",
    "version": 3
   },
   "file_extension": ".py",
   "mimetype": "text/x-python",
   "name": "python",
   "nbconvert_exporter": "python",
   "pygments_lexer": "ipython3",
   "version": "3.11.7"
  },
  "toc": {
   "base_numbering": 1,
   "nav_menu": {},
   "number_sections": true,
   "sideBar": true,
   "skip_h1_title": false,
   "title_cell": "Table of Contents",
   "title_sidebar": "Contents",
   "toc_cell": false,
   "toc_position": {},
   "toc_section_display": true,
   "toc_window_display": false
  }
 },
 "nbformat": 4,
 "nbformat_minor": 5
}
